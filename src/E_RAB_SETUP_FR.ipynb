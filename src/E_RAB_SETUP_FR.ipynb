{
 "cells": [
  {
   "cell_type": "markdown",
   "metadata": {
    "id": "xuqKjkLqt5_X"
   },
   "source": [
    "# Investigation of the Bayesian and non-Bayesian Time Series Forcasting Fraemworks in Application to OSS Systems of the LTE/LTE-A and 5G Mobile Networks \n",
    "\n",
    "This Jupyter Notebook belongs to the following paper:\n",
    "\n",
    "> Fadeev V.A., Zaidullin S.V., Nadeev A.F. (2022). [Investigation of the Bayesian and non-Bayesian time series forecasting frameworks in application to OSS systems of the LTE/LTE-A and 5G mobile networks](http://media-publisher.ru/wp-content/uploads/Nom-4-2022s.pdf). T-Comm, vol. 16, no.4, pр. 52-60.\n",
    "\n",
    "**Autors of the code**:\n",
    "- Vladimir Fadeev ([kirlf](https://github.com/kirlf))\n",
    "- Shakhrozy Zaidullin ([shortferd](https://github.com/shortferd))\n",
    "\n"
   ]
  },
  {
   "cell_type": "code",
   "execution_count": 1,
   "metadata": {
    "id": "WZ2NHxId_3pi"
   },
   "outputs": [],
   "source": [
    "import numpy as np\n",
    "import pandas as pd"
   ]
  },
  {
   "cell_type": "code",
   "execution_count": 2,
   "metadata": {
    "id": "yposlX_aAldp"
   },
   "outputs": [],
   "source": [
    "from matplotlib import pyplot as plt\n",
    "from pandas.plotting import register_matplotlib_converters\n",
    "register_matplotlib_converters()\n",
    "\n",
    "import seaborn as sns\n",
    "sns.set(style=\"whitegrid\")\n",
    "\n",
    "from pylab import rcParams"
   ]
  },
  {
   "cell_type": "code",
   "execution_count": 3,
   "metadata": {},
   "outputs": [
    {
     "name": "stderr",
     "output_type": "stream",
     "text": [
      "/opt/conda/lib/python3.8/site-packages/statsmodels/tsa/base/tsa_model.py:7: FutureWarning: pandas.Int64Index is deprecated and will be removed from pandas in a future version. Use pandas.Index with the appropriate dtype instead.\n",
      "  from pandas import (to_datetime, Int64Index, DatetimeIndex, Period,\n",
      "/opt/conda/lib/python3.8/site-packages/statsmodels/tsa/base/tsa_model.py:7: FutureWarning: pandas.Float64Index is deprecated and will be removed from pandas in a future version. Use pandas.Index with the appropriate dtype instead.\n",
      "  from pandas import (to_datetime, Int64Index, DatetimeIndex, Period,\n"
     ]
    }
   ],
   "source": [
    "from statsmodels.tsa.holtwinters import ExponentialSmoothing\n",
    "from pmdarima.arima import ARIMA\n",
    "from sklearn.svm import SVR\n",
    "from xgboost import XGBRegressor, plot_importance\n",
    "from pydlm import dlm, dynamic, seasonality, autoReg, modelTuner\n",
    "\n",
    "from sklearn.preprocessing import StandardScaler, MinMaxScaler\n"
   ]
  },
  {
   "cell_type": "code",
   "execution_count": 6,
   "metadata": {},
   "outputs": [
    {
     "ename": "ValueError",
     "evalue": "numpy.ndarray size changed, may indicate binary incompatibility. Expected 96 from C header, got 88 from PyObject",
     "output_type": "error",
     "traceback": [
      "\u001b[0;31m---------------------------------------------------------------------------\u001b[0m",
      "\u001b[0;31mValueError\u001b[0m                                Traceback (most recent call last)",
      "\u001b[0;32m<ipython-input-6-3849ea5d1812>\u001b[0m in \u001b[0;36m<module>\u001b[0;34m\u001b[0m\n\u001b[0;32m----> 1\u001b[0;31m \u001b[0;32mfrom\u001b[0m \u001b[0mpomegranate\u001b[0m \u001b[0;32mimport\u001b[0m \u001b[0mMultivariateGaussianDistribution\u001b[0m \u001b[0;32mas\u001b[0m \u001b[0mmvgauss\u001b[0m\u001b[0;34m\u001b[0m\u001b[0;34m\u001b[0m\u001b[0m\n\u001b[0m\u001b[1;32m      2\u001b[0m \u001b[0;32mfrom\u001b[0m \u001b[0mpomegranate\u001b[0m \u001b[0;32mimport\u001b[0m \u001b[0mHiddenMarkovModel\u001b[0m \u001b[0;32mas\u001b[0m \u001b[0mhmm_pom\u001b[0m\u001b[0;34m\u001b[0m\u001b[0;34m\u001b[0m\u001b[0m\n",
      "\u001b[0;32m/opt/conda/lib/python3.8/site-packages/pomegranate/__init__.py\u001b[0m in \u001b[0;36m<module>\u001b[0;34m\u001b[0m\n\u001b[1;32m      9\u001b[0m \u001b[0;32mimport\u001b[0m \u001b[0mos\u001b[0m\u001b[0;34m\u001b[0m\u001b[0;34m\u001b[0m\u001b[0m\n\u001b[1;32m     10\u001b[0m \u001b[0;34m\u001b[0m\u001b[0m\n\u001b[0;32m---> 11\u001b[0;31m \u001b[0;32mfrom\u001b[0m \u001b[0;34m.\u001b[0m\u001b[0mbase\u001b[0m \u001b[0;32mimport\u001b[0m \u001b[0;34m*\u001b[0m\u001b[0;34m\u001b[0m\u001b[0;34m\u001b[0m\u001b[0m\n\u001b[0m\u001b[1;32m     12\u001b[0m \u001b[0;32mfrom\u001b[0m \u001b[0;34m.\u001b[0m\u001b[0mparallel\u001b[0m \u001b[0;32mimport\u001b[0m \u001b[0;34m*\u001b[0m\u001b[0;34m\u001b[0m\u001b[0;34m\u001b[0m\u001b[0m\n\u001b[1;32m     13\u001b[0m \u001b[0;34m\u001b[0m\u001b[0m\n",
      "\u001b[0;32m/opt/conda/lib/python3.8/site-packages/pomegranate/base.pyx\u001b[0m in \u001b[0;36minit pomegranate.base\u001b[0;34m()\u001b[0m\n",
      "\u001b[0;31mValueError\u001b[0m: numpy.ndarray size changed, may indicate binary incompatibility. Expected 96 from C header, got 88 from PyObject"
     ]
    }
   ],
   "source": [
    "from pomegranate import MultivariateGaussianDistribution as mvgauss\n",
    "from pomegranate import HiddenMarkovModel as hmm_pom"
   ]
  },
  {
   "cell_type": "code",
   "execution_count": null,
   "metadata": {
    "id": "_uiK564dImQC"
   },
   "outputs": [],
   "source": [
    "# Features selections"
   ]
  },
  {
   "cell_type": "code",
   "execution_count": 4,
   "metadata": {
    "id": "-xNvPhwtIqvA"
   },
   "outputs": [],
   "source": [
    "def create_features(df, label=None):\n",
    "    \n",
    "    \"\"\"\n",
    "    Creates time series features from datetime index.\n",
    "    \n",
    "    Parameters\n",
    "    ----------\n",
    "    df: pandas.DataFrame\n",
    "        Input data frame.\n",
    "    label: str (default None)\n",
    "        Name of the considered KPI.\n",
    "\n",
    "    Returns\n",
    "    -------\n",
    "    pandas.DataFrame\n",
    "        Output data frame.\n",
    "    \"\"\"\n",
    "    \n",
    "    new_df = df.copy()\n",
    "    new_df.index = df[\"DT\"]\n",
    "    new_df['date'] = new_df.index\n",
    "    new_df['hour'] = new_df['date'].dt.hour\n",
    "    new_df['day_of_year'] = new_df['date'].dt.dayofyear\n",
    "\n",
    "    X = new_df[['hour', 'day_of_year']]\n",
    "\n",
    "    #new_df['day_of_week'] = new_df['date'].dt.dayofweek\n",
    "    #new_df['quarter'] = new_df['date'].dt.quarter\n",
    "    #new_df['month'] = new_df['date'].dt.month\n",
    "    #new_df['day_of_month'] = new_df['date'].dt.day\n",
    "    #new_df['week_of_year'] = new_df['date'].dt.isocalendar().week\n",
    "    \n",
    "    #X = new_df[['hour','day_of_week','quarter','month',\n",
    "    #       'day_of_year','day_of_month','week_of_year']]\n",
    "        \n",
    "    if label:\n",
    "        y = df[label]\n",
    "        return X, y\n",
    "    return X"
   ]
  },
  {
   "cell_type": "code",
   "execution_count": 5,
   "metadata": {
    "id": "hqZZ3Z_lJHIC"
   },
   "outputs": [],
   "source": [
    "\n",
    "class ModelTrainer:\n",
    "  \"\"\"\n",
    "  Class for models training automatization.\n",
    "\n",
    "  Attributes\n",
    "  ----------\n",
    "  model_type: str\n",
    "    One of the available models name or abrivation:\n",
    "      - 'HW' (Holt-Winters model)\n",
    "      - 'SARIMA'\n",
    "      - 'SARIMAX'\n",
    "      - 'SARIMA (Kalman)'\n",
    "      - 'SARIMAX (Kalman)'\n",
    "      - 'DLM' (Dynamical Linear Models)\n",
    "      - 'SVR'\n",
    "      - 'XGboost'\n",
    "  \"\"\"\n",
    "  def __init__(self, \n",
    "                model_type, \n",
    "                scale_target=False):\n",
    "      \n",
    "      self.model_type = model_type\n",
    "\n",
    "  @staticmethod\n",
    "  def __holt_winters_fp(y_train, X_test, **model_kwargs):\n",
    "    \"\"\" Holt-Winter's method (triple exponential smoothing) \"\"\"\n",
    "    \n",
    "    old_index = X_test.index\n",
    "    X_test.reset_index(inplace=True)\n",
    "    \n",
    "    seasonal_periods = model_kwargs.get(\"seasonal_periods\", 24)\n",
    "    model = ExponentialSmoothing(y_train,\n",
    "                                 trend=\"add\",\n",
    "                                 seasonal=\"add\", \n",
    "                                 seasonal_periods=seasonal_periods).fit()\n",
    "    \n",
    "    predictions = model.predict(start=X_test.index[0], end=X_test.index[-1])\n",
    "    X_test.set_index(old_index, inplace=True)\n",
    "    return predictions\n",
    "\n",
    "  @staticmethod\n",
    "  def __sarimax_fp(y_train, X_test, X_train=None, **model_kwargs):\n",
    "    \"\"\" SARIMAX model \n",
    "    (Seasonal Autoregressive Integrated Moving Averaging \n",
    "    with exogenous variables)\n",
    "    \"\"\"\n",
    "    \n",
    "    seasonal_periods = model_kwargs.get(\"seasonal_periods\", 24)\n",
    "    mle_regression = model_kwargs.get(\"mle_regression\", True)\n",
    "    sarimax_kwargs = {\"mle_regression\": mle_regression}\n",
    "    \n",
    "    # Based on the pre-estimation using AutoARIMA (takes several hours)\n",
    "    order = (2, 0, 1) \n",
    "    seasonal_order = (1, 0, 2, seasonal_periods)\n",
    "\n",
    "    model = ARIMA(order, \n",
    "                  seasonal_order=seasonal_order,\n",
    "                  **sarimax_kwargs).fit(y_train, \n",
    "                                        X=X_train)\n",
    "    \n",
    "    if X_train is not None:\n",
    "        predictions = model.predict(X=X_test, n_periods=X_test.shape[0])\n",
    "    else:\n",
    "         predictions = model.predict(n_periods=X_test.shape[0])\n",
    "    \n",
    "    return predictions\n",
    "\n",
    "  @staticmethod\n",
    "  def __pydlm_fp(y_train, X_test, X_train, **model_kwargs):\n",
    "    \"\"\" Dynamical linear models\n",
    "    \"\"\"\n",
    "    \n",
    "    seasonal_periods = model_kwargs.get(\"seasonal_periods\", 24)\n",
    "\n",
    "    dynamic_comp = dynamic(features=[list(i) for i in X_train.to_numpy()], \n",
    "                                         name=\"time_series_feature\")\n",
    "    \n",
    "    seasonality_comp = seasonality(period=seasonal_periods)\n",
    "\n",
    "    model = dlm(y_train) + dynamic_comp + seasonality_comp + autoReg()\n",
    "    model.fit()\n",
    "\n",
    "    feature_dict = {\"time_series_feature\": [list(i) for i in X_test.to_numpy()]}\n",
    "    predictions, vars = model.predictN(N=X_test.shape[0], \n",
    "                                       featureDict=feature_dict)\n",
    "    \n",
    "    return predictions\n",
    "\n",
    "  @staticmethod\n",
    "  def __svr_fp(y_train, X_test, X_train, **model_kwargs):\n",
    "\n",
    "    \"\"\" Support vector regression \"\"\"\n",
    "    \n",
    "    # This option is used extarnal scaler\n",
    "      \n",
    "    y_scaler = StandardScaler()\n",
    "    X_scaler = StandardScaler()\n",
    "\n",
    "    X_train = X_scaler.fit_transform(X_train)\n",
    "    X_test = X_scaler.fit_transform(X_test)\n",
    "    y_train = y_scaler.fit_transform(y_train.values.reshape(-1,1))\n",
    "\n",
    "    model = SVR(kernel=\"rbf\", \n",
    "                C=100, \n",
    "                gamma=0.1, \n",
    "                epsilon=0.1).fit(X_train, y_train)\n",
    "    \n",
    "    predictions_scaled = model.predict(X_test)\n",
    "    predictions = y_scaler.inverse_transform(predictions_scaled.reshape(-1,1))\n",
    "    \n",
    "    return predictions\n",
    "  \n",
    "  def fit_predict(self, \n",
    "                  y_train,\n",
    "                  X_test, \n",
    "                  X_train=None,\n",
    "                  **model_kwargs):\n",
    "    \n",
    "    \"\"\" \n",
    "    Fits the model and predicts the values \n",
    "    \n",
    "    Parameters\n",
    "    ----------\n",
    "\n",
    "    y_train: 1-D array\n",
    "      Training target vector.\n",
    "    \n",
    "    X_test: 2-D array\n",
    "      Testing features matrix.\n",
    "\n",
    "    X_test: 2-D array\n",
    "      Training features matrix.\n",
    "    \n",
    "    Returns\n",
    "    -------\n",
    "\n",
    "    predictions: 1-D array\n",
    "      Predicted values.\n",
    "    \n",
    "    \"\"\"\n",
    "\n",
    "\n",
    "    if self.model_type == \"HW\":\n",
    "            \n",
    "      predictions = self.__holt_winters_fp(y_train, \n",
    "                                           X_test, \n",
    "                                           **model_kwargs)\n",
    "\n",
    "    elif self.model_type == \"SARIMAX\":\n",
    "      \n",
    "      predictions = self.__sarimax_fp(y_train, \n",
    "                                      X_test, \n",
    "                                      X_train, \n",
    "                                      **model_kwargs)\n",
    "    elif self.model_type == \"SARIMA\":\n",
    "      predictions = self.__sarimax_fp(y_train, \n",
    "                                      X_test, \n",
    "                                      **model_kwargs)\n",
    "    \n",
    "    elif self.model_type == \"SARIMAX (Kalman)\":\n",
    "      \n",
    "      model_kwargs.update({\"mle_regression\": False})\n",
    "      predictions = self.__sarimax_fp(y_train, \n",
    "                                      X_test, \n",
    "                                      **model_kwargs)\n",
    "    \n",
    "    elif self.model_type == \"SARIMA (Kalman)\":\n",
    "      model_kwargs.update({\"mle_regression\": False})\n",
    "      predictions = self.__sarimax_fp(y_train, \n",
    "                                      X_test,\n",
    "                                      X_train,\n",
    "                                      **model_kwargs)\n",
    "       \n",
    "    \n",
    "    elif self.model_type == \"DLM\":\n",
    "      predictions = self.__pydlm_fp(y_train, \n",
    "                                    X_test, \n",
    "                                    X_train, \n",
    "                                    **model_kwargs)\n",
    "\n",
    "    elif self.model_type == \"SVR\":\n",
    "      \n",
    "      predictions = self.__svr_fp(y_train, \n",
    "                                  X_test, \n",
    "                                  X_train)\n",
    "      \n",
    "    elif self.model_type == \"XGBoost\":\n",
    "      model = XGBRegressor(n_estimators=1000).fit(X_train, y_train)\n",
    "      predictions = model.predict(X_test)\n",
    "    \n",
    "    return predictions\n"
   ]
  },
  {
   "cell_type": "code",
   "execution_count": 6,
   "metadata": {
    "id": "3i6Lo-1hAdqZ"
   },
   "outputs": [],
   "source": [
    "## Specify the name of KPI\n",
    "KPI = \"E_RAB_SETUP_FR\"\n",
    "\n",
    "## Specify year\n",
    "year_v = 2019"
   ]
  },
  {
   "cell_type": "code",
   "execution_count": 9,
   "metadata": {
    "colab": {
     "base_uri": "https://localhost:8080/",
     "height": 300
    },
    "id": "3ym5yC1uEiY8",
    "outputId": "f98478c2-e08a-462a-c80c-604dff013123"
   },
   "outputs": [
    {
     "name": "stderr",
     "output_type": "stream",
     "text": [
      "/opt/conda/lib/python3.9/site-packages/IPython/core/interactiveshell.py:3397: UserWarning: Parsing '31/12/2019' in DD/MM/YYYY format. Provide format or specify infer_datetime_format=True for consistent parsing.\n",
      "  exec(code_obj, self.user_global_ns, self.user_ns)\n"
     ]
    },
    {
     "data": {
      "text/html": [
       "<div>\n",
       "<style scoped>\n",
       "    .dataframe tbody tr th:only-of-type {\n",
       "        vertical-align: middle;\n",
       "    }\n",
       "\n",
       "    .dataframe tbody tr th {\n",
       "        vertical-align: top;\n",
       "    }\n",
       "\n",
       "    .dataframe thead th {\n",
       "        text-align: right;\n",
       "    }\n",
       "</style>\n",
       "<table border=\"1\" class=\"dataframe\">\n",
       "  <thead>\n",
       "    <tr style=\"text-align: right;\">\n",
       "      <th></th>\n",
       "      <th>E_RAB_SETUP_FR</th>\n",
       "    </tr>\n",
       "  </thead>\n",
       "  <tbody>\n",
       "    <tr>\n",
       "      <th>count</th>\n",
       "      <td>8737.000000</td>\n",
       "    </tr>\n",
       "    <tr>\n",
       "      <th>mean</th>\n",
       "      <td>0.205401</td>\n",
       "    </tr>\n",
       "    <tr>\n",
       "      <th>std</th>\n",
       "      <td>0.238278</td>\n",
       "    </tr>\n",
       "    <tr>\n",
       "      <th>min</th>\n",
       "      <td>0.021416</td>\n",
       "    </tr>\n",
       "    <tr>\n",
       "      <th>25%</th>\n",
       "      <td>0.113951</td>\n",
       "    </tr>\n",
       "    <tr>\n",
       "      <th>50%</th>\n",
       "      <td>0.181857</td>\n",
       "    </tr>\n",
       "    <tr>\n",
       "      <th>75%</th>\n",
       "      <td>0.234216</td>\n",
       "    </tr>\n",
       "    <tr>\n",
       "      <th>max</th>\n",
       "      <td>7.417320</td>\n",
       "    </tr>\n",
       "  </tbody>\n",
       "</table>\n",
       "</div>"
      ],
      "text/plain": [
       "       E_RAB_SETUP_FR\n",
       "count     8737.000000\n",
       "mean         0.205401\n",
       "std          0.238278\n",
       "min          0.021416\n",
       "25%          0.113951\n",
       "50%          0.181857\n",
       "75%          0.234216\n",
       "max          7.417320"
      ]
     },
     "execution_count": 9,
     "metadata": {},
     "output_type": "execute_result"
    }
   ],
   "source": [
    "## Extraction ot the data\n",
    "path = \"./data/\"\n",
    "df = pd.read_excel(f\"{path}{KPI}_LTE.xlsx\", sheet_name=str(year_v))\n",
    "df = df[[\"DT\", KPI]]\n",
    "df = df.loc[(df[\"DT\"] >= \"01.01.%d\" % year_v) & (df[\"DT\"] < \"01.01.%d\" % (year_v+1))]\n",
    "df = (df.set_index('DT').reindex(pd.date_range(start=f'1/1/{year_v}', end=f'31/12/{year_v}', freq='H'))).fillna(method='ffill')\n",
    "df[\"DT\"] = df.index\n",
    "df.describe()"
   ]
  },
  {
   "cell_type": "code",
   "execution_count": 10,
   "metadata": {
    "colab": {
     "base_uri": "https://localhost:8080/",
     "height": 536
    },
    "id": "qrkZDwdsFaiO",
    "outputId": "7da26729-00fa-428c-e4cf-330a54ba5505"
   },
   "outputs": [
    {
     "data": {
      "text/plain": [
       "Text(0.5, 1.0, 'E_RAB_SETUP_FR (single-sided)')"
      ]
     },
     "execution_count": 10,
     "metadata": {},
     "output_type": "execute_result"
    },
    {
     "data": {
      "image/png": "[encoded data removed]",
      "text/plain": [
       "<Figure size 1008x576 with 1 Axes>"
      ]
     },
     "metadata": {
      "needs_background": "light"
     },
     "output_type": "display_data"
    }
   ],
   "source": [
    "## Visualization of the time series single-sided\n",
    "plt.figure(figsize=(14, 8))\n",
    "plt.plot(df[\"DT\"], df[KPI])\n",
    "plt.grid(True)\n",
    "plt.xlabel(\"Date\")\n",
    "plt.ylabel(\"%s (%s)\" % (KPI, \"%\"))\n",
    "plt.title(\"%s (single-sided)\" % KPI)"
   ]
  },
  {
   "cell_type": "code",
   "execution_count": 11,
   "metadata": {
    "colab": {
     "base_uri": "https://localhost:8080/",
     "height": 536
    },
    "id": "gi5MOjJsFtL0",
    "outputId": "5d42c834-841d-464d-d775-776d28148e95"
   },
   "outputs": [
    {
     "name": "stderr",
     "output_type": "stream",
     "text": [
      "/opt/conda/lib/python3.9/site-packages/pandas/core/arraylike.py:60: UserWarning: Parsing '21.07.2019' in DD/MM/YYYY format. Provide format or specify infer_datetime_format=True for consistent parsing.\n",
      "  return self._cmp_method(other, operator.ge)\n",
      "/opt/conda/lib/python3.9/site-packages/pandas/core/arraylike.py:52: UserWarning: Parsing '24.07.2019' in DD/MM/YYYY format. Provide format or specify infer_datetime_format=True for consistent parsing.\n",
      "  return self._cmp_method(other, operator.le)\n"
     ]
    },
    {
     "data": {
      "text/plain": [
       "Text(0.5, 1.0, 'E_RAB_SETUP_FR (several days)')"
      ]
     },
     "execution_count": 11,
     "metadata": {},
     "output_type": "execute_result"
    },
    {
     "data": {
      "image/png": "[encoded data removed]",
      "text/plain": [
       "<Figure size 1008x576 with 1 Axes>"
      ]
     },
     "metadata": {
      "needs_background": "light"
     },
     "output_type": "display_data"
    }
   ],
   "source": [
    "daily = df.copy()\n",
    "daily[\"DT\"] = pd.to_datetime(daily[\"DT\"])\n",
    "daily = daily.loc[(df[\"DT\"] >= \"21.07.%d\" % year_v) & (df[\"DT\"] <= \"24.07.%d\" % year_v)]\n",
    "\n",
    "plt.figure(figsize=(14, 8))\n",
    "plt.plot(daily[\"DT\"], daily[KPI])\n",
    "plt.grid(True)\n",
    "plt.xlabel(\"Date and time\")\n",
    "plt.ylabel(\"%s (%s)\" % (KPI, \"%\"))\n",
    "plt.title(\"%s (several days)\" % KPI)"
   ]
  },
  {
   "cell_type": "code",
   "execution_count": 12,
   "metadata": {
    "colab": {
     "base_uri": "https://localhost:8080/",
     "height": 540
    },
    "id": "tNh_fkL9F2An",
    "outputId": "d77d76f6-7588-4c30-c695-b33ce38aed20"
   },
   "outputs": [
    {
     "data": {
      "image/png": "[encoded data removed]",
      "text/plain": [
       "<Figure size 800x560 with 1 Axes>"
      ]
     },
     "metadata": {
      "needs_background": "light"
     },
     "output_type": "display_data"
    }
   ],
   "source": [
    "df['year'] = [d.year for d in df.DT]\n",
    "df['month'] = [d.strftime('%b') for d in df.DT]\n",
    "years = df['year'].unique()\n",
    "\n",
    "# Draw Plot\n",
    "fig, axes = plt.subplots(1, 1, figsize=(10,7), dpi= 80)\n",
    "sns.boxplot(x='month', y=KPI, data=df)\n",
    "\n",
    "# Set Title\n",
    "axes.set_title('Month-wise Box Plot\\n(The Seasonality)', fontsize=18)\n",
    "plt.show()"
   ]
  },
  {
   "cell_type": "markdown",
   "metadata": {
    "id": "3hJI0i83GvV4"
   },
   "source": [
    "# Regular part forecasting\n",
    "\n",
    "Models to research:\n",
    "- Continuous State-space (PyDLM)\n",
    "- Holts-Winter's method (MLE and Kalman based training)\n",
    "- SARIMAX (MLE and Kalman based training)\n",
    "- Polynomial regression\n",
    "- Support Vector Regression\n",
    "- XGBoost\n"
   ]
  },
  {
   "cell_type": "code",
   "execution_count": 13,
   "metadata": {
    "id": "fwn8ZFiMG1BS"
   },
   "outputs": [],
   "source": [
    "from sklearn.metrics import (mean_absolute_error, \n",
    "                             median_absolute_error, \n",
    "                             mean_squared_error)\n",
    "from sklearn.model_selection import TimeSeriesSplit\n",
    "\n",
    "\n",
    "def timeseries_cv_score(series, \n",
    "                        KPI,\n",
    "                        model_name,\n",
    "                        n_splits,\n",
    "                        sc_X = None,\n",
    "                        sc_y = None,\n",
    "                        on_index=True,\n",
    "                        **model_kwargs):\n",
    "\n",
    "    \"\"\" Time series cross validation. \n",
    "        This function prints out the following scores:\n",
    "          - Median Absolute Error\n",
    "          - Mean Absolute Error (MAE)\n",
    "          - Mean Squared Error (MSE)\n",
    "          - Root Mean Squared Error (RMSE)\n",
    "    \n",
    "    Parameters\n",
    "    __________\n",
    "    \n",
    "    series: pandas.DataFrame\n",
    "      Input data frame.\n",
    "    \n",
    "    KPI: str\n",
    "      Name of the column to use (considered Key Performance Identifier).\n",
    "    \n",
    "    model_name: object\n",
    "      inititalizes the instance of the explored model class\n",
    "    \n",
    "    n_splits: int\n",
    "      How many splits should be done for the cross-validation procedure.\n",
    "    \n",
    "    \"\"\"\n",
    "\n",
    "    print(f\"\\n{model_name}\")\n",
    "    \n",
    "    # errors array\n",
    "    median_aes = []\n",
    "    maes = []\n",
    "    mses = []\n",
    "    rmses = []    \n",
    "    \n",
    "    # set the number of folds for cross-validation\n",
    "    tscv = TimeSeriesSplit(n_splits=n_splits) \n",
    "    \n",
    "    # iterating over folds, train model on each, forecast and calculate error\n",
    "    for train_indexes, test_indexes in tscv.split(series):\n",
    "        \n",
    "        X_train, y_train = create_features(series.iloc[train_indexes], \n",
    "                                           label=KPI) # training sets\n",
    "        X_test, y_test = create_features(series.iloc[test_indexes], \n",
    "                                         label=KPI) # testing sets\n",
    "        \n",
    "        \n",
    "        # Fit the model and predict the values \n",
    "        predictions = ModelTrainer(model_name).fit_predict(y_train, \n",
    "                                                           X_test, \n",
    "                                                           X_train,\n",
    "                                                           **model_kwargs)\n",
    "\n",
    "        # Errors counting\n",
    "        \n",
    "        median_aes.append(median_absolute_error(predictions, y_test))\n",
    "        maes.append(mean_absolute_error(predictions, y_test))\n",
    "        mses.append(mean_squared_error(predictions, y_test))\n",
    "        rmses.append(mean_squared_error(predictions, y_test, squared=False))\n",
    "    \n",
    "    print(\"Median AE: \", np.mean(np.array(median_aes)))\n",
    "    print(\"MAE: \", np.mean(np.array(maes)))\n",
    "    print(\"MSE: \", np.mean(np.array(mses)))\n",
    "    print(\"RMSE: \", np.mean(np.array(rmses)))"
   ]
  },
  {
   "cell_type": "code",
   "execution_count": 14,
   "metadata": {
    "colab": {
     "base_uri": "https://localhost:8080/"
    },
    "id": "hmeJXwcLgZFE",
    "outputId": "1c31f760-8dc4-49ab-99e1-d2f076086e09"
   },
   "outputs": [
    {
     "name": "stdout",
     "output_type": "stream",
     "text": [
      "\n",
      "SVR\n",
      "Median AE:  0.05263115715002628\n",
      "MAE:  0.08294120474253845\n",
      "MSE:  0.05645757144292171\n",
      "RMSE:  0.17603191293215414\n",
      "\n",
      "HW\n",
      "Median AE:  0.07091380666149091\n",
      "MAE:  0.10668493985629601\n",
      "MSE:  0.061071221616741694\n",
      "RMSE:  0.19909073817948256\n",
      "\n",
      "XGBoost\n",
      "Median AE:  0.029029295940174654\n",
      "MAE:  0.06580008917442333\n",
      "MSE:  0.05656340049565273\n",
      "RMSE:  0.1716915874404921\n",
      "\n",
      "DLM\n",
      "Initializing models...\n",
      "Initialization finished.\n",
      "Starting forward filtering...\n",
      "Forward filtering completed.\n",
      "Starting backward smoothing...\n",
      "Backward smoothing completed.\n",
      "Initializing models...\n",
      "Initialization finished.\n",
      "Starting forward filtering...\n",
      "Forward filtering completed.\n",
      "Starting backward smoothing...\n",
      "Backward smoothing completed.\n",
      "Initializing models...\n",
      "Initialization finished.\n",
      "Starting forward filtering...\n",
      "Forward filtering completed.\n",
      "Starting backward smoothing...\n",
      "Backward smoothing completed.\n",
      "Initializing models...\n",
      "Initialization finished.\n",
      "Starting forward filtering...\n",
      "Forward filtering completed.\n",
      "Starting backward smoothing...\n",
      "Backward smoothing completed.\n",
      "Initializing models...\n",
      "Initialization finished.\n",
      "Starting forward filtering...\n",
      "Forward filtering completed.\n",
      "Starting backward smoothing...\n",
      "Backward smoothing completed.\n",
      "Initializing models...\n",
      "Initialization finished.\n",
      "Starting forward filtering...\n",
      "Forward filtering completed.\n",
      "Starting backward smoothing...\n",
      "Backward smoothing completed.\n",
      "Initializing models...\n",
      "Initialization finished.\n",
      "Starting forward filtering...\n",
      "Forward filtering completed.\n",
      "Starting backward smoothing...\n",
      "Backward smoothing completed.\n",
      "Initializing models...\n",
      "Initialization finished.\n",
      "Starting forward filtering...\n",
      "Forward filtering completed.\n",
      "Starting backward smoothing...\n",
      "Backward smoothing completed.\n",
      "Initializing models...\n",
      "Initialization finished.\n",
      "Starting forward filtering...\n",
      "Forward filtering completed.\n",
      "Starting backward smoothing...\n",
      "Backward smoothing completed.\n",
      "Initializing models...\n",
      "Initialization finished.\n",
      "Starting forward filtering...\n",
      "Forward filtering completed.\n",
      "Starting backward smoothing...\n",
      "Backward smoothing completed.\n",
      "Initializing models...\n",
      "Initialization finished.\n",
      "Starting forward filtering...\n",
      "Forward filtering completed.\n",
      "Starting backward smoothing...\n",
      "Backward smoothing completed.\n",
      "Initializing models...\n",
      "Initialization finished.\n",
      "Starting forward filtering...\n",
      "Forward filtering completed.\n",
      "Starting backward smoothing...\n",
      "Backward smoothing completed.\n",
      "Median AE:  0.07432465199638603\n",
      "MAE:  0.10542588173081528\n",
      "MSE:  0.06803489059415284\n",
      "RMSE:  0.19776501455915532\n"
     ]
    }
   ],
   "source": [
    "import warnings\n",
    "warnings.filterwarnings('ignore')\n",
    "\n",
    "# ARIMA takes couple of hours\n",
    "\n",
    "#cases = [\"SARIMAX\", \"SARIMAX (Kalman)\", \"SARIMA\", \"SARIMA (Kalman)\", \n",
    "#         \"SVR\", \"HW\", \"XGBoost\", \"DLM\"]\n",
    "\n",
    "cases = [\"SVR\", \"HW\", \"XGBoost\", \"DLM\"]\n",
    "\n",
    "for model_name in cases:\n",
    "  timeseries_cv_score(df, KPI, model_name, n_splits=12)"
   ]
  },
  {
   "cell_type": "code",
   "execution_count": 16,
   "metadata": {
    "colab": {
     "base_uri": "https://localhost:8080/"
    },
    "id": "4iTHC8rftIGK",
    "outputId": "b5f32ccc-0dc1-4051-988a-b8f49d943683"
   },
   "outputs": [],
   "source": [
    "# import warnings\n",
    "# warnings.filterwarnings('ignore')\n",
    "\n",
    "# # ARIMA takes couple of hours\n",
    "\n",
    "# cases = [\"SARIMAX\", \"SARIMAX (Kalman)\", \"SARIMA\", \"SARIMA (Kalman)\"]\n",
    "\n",
    "# for model_name in cases:\n",
    "#   timeseries_cv_score(df, KPI, model_name, n_splits=12)"
   ]
  },
  {
   "cell_type": "markdown",
   "metadata": {
    "id": "wgUqpFcNvP6o"
   },
   "source": [
    "# Outliers prediction"
   ]
  },
  {
   "cell_type": "code",
   "execution_count": 17,
   "metadata": {
    "id": "lHvB6-EBygrO"
   },
   "outputs": [
    {
     "ename": "FileNotFoundError",
     "evalue": "[Errno 2] No such file or directory: './lte-technical-kpis/E_RAB_SETUP_FR_LTE.xlsx'",
     "output_type": "error",
     "traceback": [
      "\u001b[0;31m---------------------------------------------------------------------------\u001b[0m",
      "\u001b[0;31mFileNotFoundError\u001b[0m                         Traceback (most recent call last)",
      "Input \u001b[0;32mIn [17]\u001b[0m, in \u001b[0;36m<cell line: 6>\u001b[0;34m()\u001b[0m\n\u001b[1;32m      5\u001b[0m dfs \u001b[38;5;241m=\u001b[39m {}\n\u001b[1;32m      6\u001b[0m \u001b[38;5;28;01mfor\u001b[39;00m sheet \u001b[38;5;129;01min\u001b[39;00m (\u001b[38;5;124m\"\u001b[39m\u001b[38;5;124m2017\u001b[39m\u001b[38;5;124m\"\u001b[39m, \u001b[38;5;124m\"\u001b[39m\u001b[38;5;124m2018\u001b[39m\u001b[38;5;124m\"\u001b[39m, \u001b[38;5;124m\"\u001b[39m\u001b[38;5;124m2019\u001b[39m\u001b[38;5;124m\"\u001b[39m):\n\u001b[0;32m----> 7\u001b[0m   dfs\u001b[38;5;241m.\u001b[39mupdate({sheet: \u001b[43mpd\u001b[49m\u001b[38;5;241;43m.\u001b[39;49m\u001b[43mread_excel\u001b[49m\u001b[43m(\u001b[49m\u001b[38;5;124;43mf\u001b[39;49m\u001b[38;5;124;43m\"\u001b[39;49m\u001b[38;5;132;43;01m{\u001b[39;49;00m\u001b[43mpath\u001b[49m\u001b[38;5;132;43;01m}\u001b[39;49;00m\u001b[38;5;132;43;01m{\u001b[39;49;00m\u001b[43mKPI\u001b[49m\u001b[38;5;132;43;01m}\u001b[39;49;00m\u001b[38;5;124;43m_LTE.xlsx\u001b[39;49m\u001b[38;5;124;43m\"\u001b[39;49m\u001b[43m,\u001b[49m\u001b[43m \u001b[49m\u001b[43msheet_name\u001b[49m\u001b[38;5;241;43m=\u001b[39;49m\u001b[43msheet\u001b[49m\u001b[43m)\u001b[49m})\n",
      "File \u001b[0;32m/opt/conda/lib/python3.9/site-packages/pandas/util/_decorators.py:311\u001b[0m, in \u001b[0;36mdeprecate_nonkeyword_arguments.<locals>.decorate.<locals>.wrapper\u001b[0;34m(*args, **kwargs)\u001b[0m\n\u001b[1;32m    305\u001b[0m \u001b[38;5;28;01mif\u001b[39;00m \u001b[38;5;28mlen\u001b[39m(args) \u001b[38;5;241m>\u001b[39m num_allow_args:\n\u001b[1;32m    306\u001b[0m     warnings\u001b[38;5;241m.\u001b[39mwarn(\n\u001b[1;32m    307\u001b[0m         msg\u001b[38;5;241m.\u001b[39mformat(arguments\u001b[38;5;241m=\u001b[39marguments),\n\u001b[1;32m    308\u001b[0m         \u001b[38;5;167;01mFutureWarning\u001b[39;00m,\n\u001b[1;32m    309\u001b[0m         stacklevel\u001b[38;5;241m=\u001b[39mstacklevel,\n\u001b[1;32m    310\u001b[0m     )\n\u001b[0;32m--> 311\u001b[0m \u001b[38;5;28;01mreturn\u001b[39;00m \u001b[43mfunc\u001b[49m\u001b[43m(\u001b[49m\u001b[38;5;241;43m*\u001b[39;49m\u001b[43margs\u001b[49m\u001b[43m,\u001b[49m\u001b[43m \u001b[49m\u001b[38;5;241;43m*\u001b[39;49m\u001b[38;5;241;43m*\u001b[39;49m\u001b[43mkwargs\u001b[49m\u001b[43m)\u001b[49m\n",
      "File \u001b[0;32m/opt/conda/lib/python3.9/site-packages/pandas/io/excel/_base.py:457\u001b[0m, in \u001b[0;36mread_excel\u001b[0;34m(io, sheet_name, header, names, index_col, usecols, squeeze, dtype, engine, converters, true_values, false_values, skiprows, nrows, na_values, keep_default_na, na_filter, verbose, parse_dates, date_parser, thousands, decimal, comment, skipfooter, convert_float, mangle_dupe_cols, storage_options)\u001b[0m\n\u001b[1;32m    455\u001b[0m \u001b[38;5;28;01mif\u001b[39;00m \u001b[38;5;129;01mnot\u001b[39;00m \u001b[38;5;28misinstance\u001b[39m(io, ExcelFile):\n\u001b[1;32m    456\u001b[0m     should_close \u001b[38;5;241m=\u001b[39m \u001b[38;5;28;01mTrue\u001b[39;00m\n\u001b[0;32m--> 457\u001b[0m     io \u001b[38;5;241m=\u001b[39m \u001b[43mExcelFile\u001b[49m\u001b[43m(\u001b[49m\u001b[43mio\u001b[49m\u001b[43m,\u001b[49m\u001b[43m \u001b[49m\u001b[43mstorage_options\u001b[49m\u001b[38;5;241;43m=\u001b[39;49m\u001b[43mstorage_options\u001b[49m\u001b[43m,\u001b[49m\u001b[43m \u001b[49m\u001b[43mengine\u001b[49m\u001b[38;5;241;43m=\u001b[39;49m\u001b[43mengine\u001b[49m\u001b[43m)\u001b[49m\n\u001b[1;32m    458\u001b[0m \u001b[38;5;28;01melif\u001b[39;00m engine \u001b[38;5;129;01mand\u001b[39;00m engine \u001b[38;5;241m!=\u001b[39m io\u001b[38;5;241m.\u001b[39mengine:\n\u001b[1;32m    459\u001b[0m     \u001b[38;5;28;01mraise\u001b[39;00m \u001b[38;5;167;01mValueError\u001b[39;00m(\n\u001b[1;32m    460\u001b[0m         \u001b[38;5;124m\"\u001b[39m\u001b[38;5;124mEngine should not be specified when passing \u001b[39m\u001b[38;5;124m\"\u001b[39m\n\u001b[1;32m    461\u001b[0m         \u001b[38;5;124m\"\u001b[39m\u001b[38;5;124man ExcelFile - ExcelFile already has the engine set\u001b[39m\u001b[38;5;124m\"\u001b[39m\n\u001b[1;32m    462\u001b[0m     )\n",
      "File \u001b[0;32m/opt/conda/lib/python3.9/site-packages/pandas/io/excel/_base.py:1376\u001b[0m, in \u001b[0;36mExcelFile.__init__\u001b[0;34m(self, path_or_buffer, engine, storage_options)\u001b[0m\n\u001b[1;32m   1374\u001b[0m     ext \u001b[38;5;241m=\u001b[39m \u001b[38;5;124m\"\u001b[39m\u001b[38;5;124mxls\u001b[39m\u001b[38;5;124m\"\u001b[39m\n\u001b[1;32m   1375\u001b[0m \u001b[38;5;28;01melse\u001b[39;00m:\n\u001b[0;32m-> 1376\u001b[0m     ext \u001b[38;5;241m=\u001b[39m \u001b[43minspect_excel_format\u001b[49m\u001b[43m(\u001b[49m\n\u001b[1;32m   1377\u001b[0m \u001b[43m        \u001b[49m\u001b[43mcontent_or_path\u001b[49m\u001b[38;5;241;43m=\u001b[39;49m\u001b[43mpath_or_buffer\u001b[49m\u001b[43m,\u001b[49m\u001b[43m \u001b[49m\u001b[43mstorage_options\u001b[49m\u001b[38;5;241;43m=\u001b[39;49m\u001b[43mstorage_options\u001b[49m\n\u001b[1;32m   1378\u001b[0m \u001b[43m    \u001b[49m\u001b[43m)\u001b[49m\n\u001b[1;32m   1379\u001b[0m     \u001b[38;5;28;01mif\u001b[39;00m ext \u001b[38;5;129;01mis\u001b[39;00m \u001b[38;5;28;01mNone\u001b[39;00m:\n\u001b[1;32m   1380\u001b[0m         \u001b[38;5;28;01mraise\u001b[39;00m \u001b[38;5;167;01mValueError\u001b[39;00m(\n\u001b[1;32m   1381\u001b[0m             \u001b[38;5;124m\"\u001b[39m\u001b[38;5;124mExcel file format cannot be determined, you must specify \u001b[39m\u001b[38;5;124m\"\u001b[39m\n\u001b[1;32m   1382\u001b[0m             \u001b[38;5;124m\"\u001b[39m\u001b[38;5;124man engine manually.\u001b[39m\u001b[38;5;124m\"\u001b[39m\n\u001b[1;32m   1383\u001b[0m         )\n",
      "File \u001b[0;32m/opt/conda/lib/python3.9/site-packages/pandas/io/excel/_base.py:1250\u001b[0m, in \u001b[0;36minspect_excel_format\u001b[0;34m(content_or_path, storage_options)\u001b[0m\n\u001b[1;32m   1247\u001b[0m \u001b[38;5;28;01mif\u001b[39;00m \u001b[38;5;28misinstance\u001b[39m(content_or_path, \u001b[38;5;28mbytes\u001b[39m):\n\u001b[1;32m   1248\u001b[0m     content_or_path \u001b[38;5;241m=\u001b[39m BytesIO(content_or_path)\n\u001b[0;32m-> 1250\u001b[0m \u001b[38;5;28;01mwith\u001b[39;00m \u001b[43mget_handle\u001b[49m\u001b[43m(\u001b[49m\n\u001b[1;32m   1251\u001b[0m \u001b[43m    \u001b[49m\u001b[43mcontent_or_path\u001b[49m\u001b[43m,\u001b[49m\u001b[43m \u001b[49m\u001b[38;5;124;43m\"\u001b[39;49m\u001b[38;5;124;43mrb\u001b[39;49m\u001b[38;5;124;43m\"\u001b[39;49m\u001b[43m,\u001b[49m\u001b[43m \u001b[49m\u001b[43mstorage_options\u001b[49m\u001b[38;5;241;43m=\u001b[39;49m\u001b[43mstorage_options\u001b[49m\u001b[43m,\u001b[49m\u001b[43m \u001b[49m\u001b[43mis_text\u001b[49m\u001b[38;5;241;43m=\u001b[39;49m\u001b[38;5;28;43;01mFalse\u001b[39;49;00m\n\u001b[1;32m   1252\u001b[0m \u001b[43m\u001b[49m\u001b[43m)\u001b[49m \u001b[38;5;28;01mas\u001b[39;00m handle:\n\u001b[1;32m   1253\u001b[0m     stream \u001b[38;5;241m=\u001b[39m handle\u001b[38;5;241m.\u001b[39mhandle\n\u001b[1;32m   1254\u001b[0m     stream\u001b[38;5;241m.\u001b[39mseek(\u001b[38;5;241m0\u001b[39m)\n",
      "File \u001b[0;32m/opt/conda/lib/python3.9/site-packages/pandas/io/common.py:798\u001b[0m, in \u001b[0;36mget_handle\u001b[0;34m(path_or_buf, mode, encoding, compression, memory_map, is_text, errors, storage_options)\u001b[0m\n\u001b[1;32m    789\u001b[0m         handle \u001b[38;5;241m=\u001b[39m \u001b[38;5;28mopen\u001b[39m(\n\u001b[1;32m    790\u001b[0m             handle,\n\u001b[1;32m    791\u001b[0m             ioargs\u001b[38;5;241m.\u001b[39mmode,\n\u001b[0;32m   (...)\u001b[0m\n\u001b[1;32m    794\u001b[0m             newline\u001b[38;5;241m=\u001b[39m\u001b[38;5;124m\"\u001b[39m\u001b[38;5;124m\"\u001b[39m,\n\u001b[1;32m    795\u001b[0m         )\n\u001b[1;32m    796\u001b[0m     \u001b[38;5;28;01melse\u001b[39;00m:\n\u001b[1;32m    797\u001b[0m         \u001b[38;5;66;03m# Binary mode\u001b[39;00m\n\u001b[0;32m--> 798\u001b[0m         handle \u001b[38;5;241m=\u001b[39m \u001b[38;5;28;43mopen\u001b[39;49m\u001b[43m(\u001b[49m\u001b[43mhandle\u001b[49m\u001b[43m,\u001b[49m\u001b[43m \u001b[49m\u001b[43mioargs\u001b[49m\u001b[38;5;241;43m.\u001b[39;49m\u001b[43mmode\u001b[49m\u001b[43m)\u001b[49m\n\u001b[1;32m    799\u001b[0m     handles\u001b[38;5;241m.\u001b[39mappend(handle)\n\u001b[1;32m    801\u001b[0m \u001b[38;5;66;03m# Convert BytesIO or file objects passed with an encoding\u001b[39;00m\n",
      "\u001b[0;31mFileNotFoundError\u001b[0m: [Errno 2] No such file or directory: './lte-technical-kpis/E_RAB_SETUP_FR_LTE.xlsx'"
     ]
    }
   ],
   "source": [
    "## Specify the name of KPI\n",
    "KPI = \"E_RAB_SETUP_FR\"\n",
    "path = \"./lte-technical-kpis/\"\n",
    "\n",
    "dfs = {}\n",
    "for sheet in (\"2017\", \"2018\", \"2019\"):\n",
    "  dfs.update({sheet: pd.read_excel(f\"{path}{KPI}_LTE.xlsx\", sheet_name=sheet)})\n"
   ]
  },
  {
   "cell_type": "code",
   "execution_count": 18,
   "metadata": {
    "id": "D3SVuO5Bybtz"
   },
   "outputs": [],
   "source": [
    "def calc_inner_join(real_part, prediction):\n",
    "\n",
    "  \"\"\"\n",
    "  Calculates relations between observation and prediction.\n",
    "\n",
    "  Parameters\n",
    "  ----------\n",
    "  real_part: 1-D array\n",
    "    Observed vector.\n",
    "  prediction: 1-D array\n",
    "    Predicted vector.\n",
    "\n",
    "  Returns\n",
    "  -------\n",
    "  dict\n",
    "    Keys\n",
    "    ----\n",
    "      intersections: int\n",
    "        Number of correctly predicted values.\n",
    "      false_alarms: int\n",
    "        Number of false alarms (outliers).\n",
    "      missed_alarms: int\n",
    "        Number of missed alarms (outliers).\n",
    "      detected_alarms: int\n",
    "        Number of detected in observation outliers.\n",
    "      predicted_alarms: int\n",
    "        Number of detected in prediction outliers.\n",
    "  \"\"\"\n",
    "\n",
    "  inner_join_count = np.intersect1d(real_part, prediction).shape[0]\n",
    "\n",
    "  real_part = set(real_part)\n",
    "  prediction = set(prediction)\n",
    "\n",
    "  len_real = len(list(real_part))\n",
    "  len_model = len(list(prediction))\n",
    "\n",
    "  print(f\"Lenght real: {len_real}\")\n",
    "  print(f\"Length prediction: {len_model}\")\n",
    "\n",
    "\n",
    "  false_alarm = sum([1 for pr in prediction if pr not in real_part])\n",
    "  missed_alarm = sum([1 for pr in real_part if pr not in prediction]) \n",
    "\n",
    "  print(f\"Number of intersections: {inner_join_count}\")\n",
    "  print(f\"Number of false alarms: {false_alarm}\")\n",
    "  print(f\"Number of missed alarms: {missed_alarm}\")\n",
    "\n",
    "  return {\"intersections\": inner_join_count,\n",
    "          \"false_alarms\": false_alarm,\n",
    "          \"missed_alarms\": missed_alarm, \n",
    "          \"detected_alarms\": len_real,\n",
    "          \"predicted_alarms\": len_model}"
   ]
  },
  {
   "cell_type": "code",
   "execution_count": 19,
   "metadata": {
    "id": "KuY6YmQBzPrg"
   },
   "outputs": [],
   "source": [
    "def find_problem_state(states):\n",
    "    \"\"\" Suppose that the number of outliers is smaller \n",
    "    than number of 'regular' samples \"\"\"\n",
    "    unique, counts = np.unique(states, return_counts=True)\n",
    "    counts_d = {val: count for val, count in zip(unique, counts)}\n",
    "    return min(counts_d, key=counts_d.get)"
   ]
  },
  {
   "cell_type": "code",
   "execution_count": 20,
   "metadata": {
    "id": "xvVUgi8ozFta"
   },
   "outputs": [],
   "source": [
    "def outliers_investigation(train_df, \n",
    "                           test_df, \n",
    "                           test_df_states, \n",
    "                           KPI, \n",
    "                           model_name,\n",
    "                           **model_kwargs):\n",
    "  \"\"\"\n",
    "  Runs outliers prediction investigations.\n",
    "\n",
    "  Parameters\n",
    "  ----------\n",
    "\n",
    "  train_df: 2-D array\n",
    "    Training data set.\n",
    "\n",
    "  test_df: 2-D array\n",
    "    Testing data set.\n",
    "\n",
    "  test_df_states: 1-D array.\n",
    "    States that are detected in observations.\n",
    "\n",
    "  KPI: str\n",
    "    Considered KPI.\n",
    "\n",
    "  model_name: str\n",
    "    Considered model.\n",
    "  \n",
    "  Returns\n",
    "  -------\n",
    "  dict\n",
    "    Keys\n",
    "    ----\n",
    "    predictions: 2-D array\n",
    "      Data frame that contains predictions.\n",
    "    res_samples: dict\n",
    "      Results of prediction checking for sample number as a criterion.\n",
    "    res_days: dict\n",
    "      Results of prediction checking for day of year as a criterion.\n",
    "  \"\"\"\n",
    "  \n",
    "  print(f\"\\n{model_name}\")\n",
    "\n",
    "  # Observed states\n",
    "  df_predicted = pd.DataFrame()\n",
    "  df_predicted[KPI] = test_df[KPI]\n",
    "  df_predicted[\"Rows number\"] = [i for i in range(df_predicted.shape[0])]\n",
    "  df_predicted[\"DT\"] = test_df[\"DT\"]\n",
    "  df_predicted[\"test states\"] = test_df_states\n",
    "\n",
    "  observed_problem_state = find_problem_state(df_predicted[\"test states\"])\n",
    "  alarm_observed = df_predicted.loc[df_predicted[\"test states\"] == observed_problem_state]\n",
    "\n",
    "\n",
    "  # Features\n",
    "  X_train, y_train = create_features(train_df, \n",
    "                                     label=KPI) # training sets\n",
    "  X_test, y_test = create_features(test_df, \n",
    "                                   label=KPI) # testing sets\n",
    "        \n",
    "        \n",
    "  # Fit the model and predict the values\n",
    "\n",
    "  predictions = ModelTrainer(model_name).fit_predict(y_train, \n",
    "                                                     X_test, \n",
    "                                                     X_train,\n",
    "                                                     **model_kwargs)\n",
    "  # Plot\n",
    "  test_df_copy = test_df.copy()\n",
    "  if model_name == \"HW\":\n",
    "    predictions = list(predictions)\n",
    "  test_df_copy[\"predictions\"] = predictions\n",
    "\n",
    "\n",
    "  # plt.plot(test_df_copy[KPI])\n",
    "  # plt.plot(test_df_copy[\"predictions\"])\n",
    "  # plt.show()\n",
    "\n",
    "  # Predicted states\n",
    "  hmm_model_from_samp = hmm_pom.from_samples(distribution = mvgauss, \n",
    "                                             n_components=2, \n",
    "                                             X=[predictions],\n",
    "                                             algorithm='baum-welch')\n",
    "  \n",
    "  \n",
    "  states_prediction = hmm_model_from_samp.predict(sequence=test_df[KPI])\n",
    "  df_predicted[\"predicted states\"] = states_prediction\n",
    "  predicted_problem_state = find_problem_state(df_predicted[\"predicted states\"])\n",
    "  alarm_predicted = df_predicted.loc[df_predicted[\"predicted states\"] == predicted_problem_state]\n",
    "\n",
    "\n",
    "  # Samples\n",
    "  print(\"Samples\")\n",
    "  res_samp = calc_inner_join(alarm_observed[\"Rows number\"], \n",
    "                             alarm_predicted[\"Rows number\"])\n",
    "\n",
    "  # Days\n",
    "  print(\"Days of year\")\n",
    "  res_days = calc_inner_join(alarm_observed[\"DT\"].dt.dayofyear, \n",
    "                             alarm_predicted[\"DT\"].dt.dayofyear)\n",
    "  \n",
    "  df_predicted[\"predictions\"] = predictions\n",
    "  return {\"predictions\": df_predicted,\n",
    "          \"res_samples\": res_samp,\n",
    "          \"res_days\": res_days}"
   ]
  },
  {
   "cell_type": "code",
   "execution_count": 21,
   "metadata": {
    "id": "ltybBs8xJc1T"
   },
   "outputs": [],
   "source": [
    "def prepare_df(df, year):\n",
    "  df = (df.set_index('DT').reindex(pd.date_range(start=f'1/1/{year}', \n",
    "                                                 end=f'1/1/{int(year)+1}', \n",
    "                                                 freq='H'))).fillna(method='ffill')\n",
    "  df[\"DT\"] = df.index\n",
    "  df = df.loc[(df[\"DT\"] >= f\"01.01.{year}\") & (df[\"DT\"] < f\"01.01.{int(year) + 1}\" )]\n",
    "\n",
    "  return df"
   ]
  },
  {
   "cell_type": "code",
   "execution_count": 22,
   "metadata": {
    "id": "UhiMtd85OyXR"
   },
   "outputs": [],
   "source": [
    "def print_results_otliers(result):\n",
    "  \n",
    "  print(f\"Number of intersections: {np.mean(result['intersections'])}\")\n",
    "  print(f\"Number of false alarms: {np.mean(result['false_alarms'])}\")\n",
    "  print(f\"Number of missed alarms: {np.mean(result['missed_alarms'])}\")\n",
    "  print(f\"Number of detected alarms: {np.mean(result['detected_alarms'])}\")\n",
    "  print(f\"Number of prdicted alarms: {np.mean(result['predicted_alarms'])}\")"
   ]
  },
  {
   "cell_type": "code",
   "execution_count": 24,
   "metadata": {
    "colab": {
     "base_uri": "https://localhost:8080/"
    },
    "id": "1IrciieM72cz",
    "outputId": "76d95194-4b5f-4ade-f7e5-fa17551b2c7a"
   },
   "outputs": [
    {
     "ename": "KeyError",
     "evalue": "'2017'",
     "output_type": "error",
     "traceback": [
      "\u001b[0;31m---------------------------------------------------------------------------\u001b[0m",
      "\u001b[0;31mKeyError\u001b[0m                                  Traceback (most recent call last)",
      "Input \u001b[0;32mIn [24]\u001b[0m, in \u001b[0;36m<cell line: 31>\u001b[0;34m()\u001b[0m\n\u001b[1;32m     18\u001b[0m models_result \u001b[38;5;241m=\u001b[39m {i: {\u001b[38;5;124m\"\u001b[39m\u001b[38;5;124msamples\u001b[39m\u001b[38;5;124m\"\u001b[39m: {\u001b[38;5;124m\"\u001b[39m\u001b[38;5;124mintersections\u001b[39m\u001b[38;5;124m\"\u001b[39m: [],\n\u001b[1;32m     19\u001b[0m                                  \u001b[38;5;124m\"\u001b[39m\u001b[38;5;124mfalse_alarms\u001b[39m\u001b[38;5;124m\"\u001b[39m: [],\n\u001b[1;32m     20\u001b[0m                                  \u001b[38;5;124m\"\u001b[39m\u001b[38;5;124mmissed_alarms\u001b[39m\u001b[38;5;124m\"\u001b[39m: [],\n\u001b[0;32m   (...)\u001b[0m\n\u001b[1;32m     27\u001b[0m                               \u001b[38;5;124m\"\u001b[39m\u001b[38;5;124mpredicted_alarms\u001b[39m\u001b[38;5;124m\"\u001b[39m: []}\n\u001b[1;32m     28\u001b[0m                 } \u001b[38;5;28;01mfor\u001b[39;00m i \u001b[38;5;129;01min\u001b[39;00m cases}\n\u001b[1;32m     31\u001b[0m \u001b[38;5;28;01mfor\u001b[39;00m case \u001b[38;5;129;01min\u001b[39;00m cv_cases:\n\u001b[0;32m---> 33\u001b[0m   train_years \u001b[38;5;241m=\u001b[39m [prepare_df(dfs[year], year) \u001b[38;5;28;01mfor\u001b[39;00m year \u001b[38;5;129;01min\u001b[39;00m case[\u001b[38;5;124m\"\u001b[39m\u001b[38;5;124mtrain\u001b[39m\u001b[38;5;124m\"\u001b[39m]]\n\u001b[1;32m     34\u001b[0m   df_train \u001b[38;5;241m=\u001b[39m pd\u001b[38;5;241m.\u001b[39mconcat(train_years)\n\u001b[1;32m     36\u001b[0m   df_test \u001b[38;5;241m=\u001b[39m prepare_df(dfs[case[\u001b[38;5;124m\"\u001b[39m\u001b[38;5;124mtest\u001b[39m\u001b[38;5;124m\"\u001b[39m]], case[\u001b[38;5;124m\"\u001b[39m\u001b[38;5;124mtest\u001b[39m\u001b[38;5;124m\"\u001b[39m])\n",
      "Input \u001b[0;32mIn [24]\u001b[0m, in \u001b[0;36m<listcomp>\u001b[0;34m(.0)\u001b[0m\n\u001b[1;32m     18\u001b[0m models_result \u001b[38;5;241m=\u001b[39m {i: {\u001b[38;5;124m\"\u001b[39m\u001b[38;5;124msamples\u001b[39m\u001b[38;5;124m\"\u001b[39m: {\u001b[38;5;124m\"\u001b[39m\u001b[38;5;124mintersections\u001b[39m\u001b[38;5;124m\"\u001b[39m: [],\n\u001b[1;32m     19\u001b[0m                                  \u001b[38;5;124m\"\u001b[39m\u001b[38;5;124mfalse_alarms\u001b[39m\u001b[38;5;124m\"\u001b[39m: [],\n\u001b[1;32m     20\u001b[0m                                  \u001b[38;5;124m\"\u001b[39m\u001b[38;5;124mmissed_alarms\u001b[39m\u001b[38;5;124m\"\u001b[39m: [],\n\u001b[0;32m   (...)\u001b[0m\n\u001b[1;32m     27\u001b[0m                               \u001b[38;5;124m\"\u001b[39m\u001b[38;5;124mpredicted_alarms\u001b[39m\u001b[38;5;124m\"\u001b[39m: []}\n\u001b[1;32m     28\u001b[0m                 } \u001b[38;5;28;01mfor\u001b[39;00m i \u001b[38;5;129;01min\u001b[39;00m cases}\n\u001b[1;32m     31\u001b[0m \u001b[38;5;28;01mfor\u001b[39;00m case \u001b[38;5;129;01min\u001b[39;00m cv_cases:\n\u001b[0;32m---> 33\u001b[0m   train_years \u001b[38;5;241m=\u001b[39m [prepare_df(\u001b[43mdfs\u001b[49m\u001b[43m[\u001b[49m\u001b[43myear\u001b[49m\u001b[43m]\u001b[49m, year) \u001b[38;5;28;01mfor\u001b[39;00m year \u001b[38;5;129;01min\u001b[39;00m case[\u001b[38;5;124m\"\u001b[39m\u001b[38;5;124mtrain\u001b[39m\u001b[38;5;124m\"\u001b[39m]]\n\u001b[1;32m     34\u001b[0m   df_train \u001b[38;5;241m=\u001b[39m pd\u001b[38;5;241m.\u001b[39mconcat(train_years)\n\u001b[1;32m     36\u001b[0m   df_test \u001b[38;5;241m=\u001b[39m prepare_df(dfs[case[\u001b[38;5;124m\"\u001b[39m\u001b[38;5;124mtest\u001b[39m\u001b[38;5;124m\"\u001b[39m]], case[\u001b[38;5;124m\"\u001b[39m\u001b[38;5;124mtest\u001b[39m\u001b[38;5;124m\"\u001b[39m])\n",
      "\u001b[0;31mKeyError\u001b[0m: '2017'"
     ]
    }
   ],
   "source": [
    "import warnings\n",
    "warnings.filterwarnings('ignore')\n",
    "\n",
    "# ARIMA takes couple of hours\n",
    "\n",
    "#cases = [\"SARIMAX\", \"SARIMAX (Kalman)\", \"SARIMA\", \"SARIMA (Kalman)\", \n",
    "#         \"SVR\", \"HW\", \"XGBoost\", \"DLM\"]\n",
    "\n",
    "cases = [\"SVR\", \"HW\", \"XGBoost\", \"DLM\"]\n",
    "\n",
    "cv_cases = [{\"train\": (\"2017\", \"2018\"),\n",
    "             \"test\": \"2019\"},\n",
    "            {\"train\": (\"2017\", \"2019\"),\n",
    "             \"test\": \"2018\"},\n",
    "            {\"train\": (\"2018\", \"2019\"),\n",
    "             \"test\": \"2017\"}]\n",
    "\n",
    "models_result = {i: {\"samples\": {\"intersections\": [],\n",
    "                                 \"false_alarms\": [],\n",
    "                                 \"missed_alarms\": [],\n",
    "                                 \"detected_alarms\": [], \n",
    "                                 \"predicted_alarms\": []},\n",
    "                     \"days\": {\"intersections\": [],\n",
    "                              \"false_alarms\": [],\n",
    "                              \"missed_alarms\": [],\n",
    "                              \"detected_alarms\": [], \n",
    "                              \"predicted_alarms\": []}\n",
    "                } for i in cases}\n",
    "\n",
    "\n",
    "for case in cv_cases:\n",
    "  \n",
    "  train_years = [prepare_df(dfs[year], year) for year in case[\"train\"]]\n",
    "  df_train = pd.concat(train_years)\n",
    "\n",
    "  df_test = prepare_df(dfs[case[\"test\"]], case[\"test\"])\n",
    "  \n",
    "  hmm_model_from_samp = hmm_pom.from_samples(distribution = mvgauss, \n",
    "                                             n_components=2, \n",
    "                                             X=[df_test[KPI]],\n",
    "                                             algorithm='baum-welch')\n",
    "  states_observed = hmm_model_from_samp.predict(sequence=df_test[KPI])\n",
    "  \n",
    "  for model_name in cases:\n",
    "\n",
    "    result = outliers_investigation(df_train, \n",
    "                         df_test,\n",
    "                         states_observed,\n",
    "                         KPI,\n",
    "                         model_name)\n",
    "    \n",
    "    for i, j in zip ((\"samples\", \"days\"), (\"res_samples\", \"res_days\")):\n",
    "      for field in (\"intersections\", \n",
    "                    \"false_alarms\", \n",
    "                    \"missed_alarms\", \n",
    "                    \"detected_alarms\", \n",
    "                    \"predicted_alarms\"):\n",
    "        models_result[model_name][i][field].append(result[j][field])"
   ]
  },
  {
   "cell_type": "code",
   "execution_count": null,
   "metadata": {
    "colab": {
     "base_uri": "https://localhost:8080/"
    },
    "id": "1xjxFnawPaVB",
    "outputId": "fa6059a1-83ad-4b2c-fc35-29e269aaa1d3"
   },
   "outputs": [],
   "source": [
    "for model in [\"SVR\", \"HW\", \"XGBoost\", \"DLM\"]:\n",
    "  print(model)\n",
    "  for case, title in zip((\"samples\", \"days\"), (\"Samples\", \"Day of year\")):\n",
    "    print(title)\n",
    "    print_results_otliers(models_result[model][case])"
   ]
  },
  {
   "cell_type": "code",
   "execution_count": null,
   "metadata": {
    "id": "gUi3ZM0g8bvv"
   },
   "outputs": [],
   "source": [
    "# # This models cannot preddict outliers\n",
    "# cases = [\"SARIMAX\", \"SARIMAX (Kalman)\"]\n",
    "\n",
    "# for model_name in cases:\n",
    "#   outliers_investigation(df_train, \n",
    "#                          df,\n",
    "#                          states_observed,\n",
    "#                          KPI,\n",
    "#                          model_name)"
   ]
  },
  {
   "cell_type": "code",
   "execution_count": null,
   "metadata": {
    "id": "vagxP2IE_5QN"
   },
   "outputs": [],
   "source": [
    "# # This models cannot preddict outliers\n",
    "# cases = [\"SARIMA\", \"SARIMA (Kalman)\"]\n",
    "# for model_name in cases:\n",
    "#   outliers_investigation(df_train, \n",
    "#                          df,\n",
    "#                          states_observed,\n",
    "#                          KPI,\n",
    "#                          model_name)"
   ]
  }
 ],
 "metadata": {
  "colab": {
   "collapsed_sections": [],
   "name": "E_RAB_SETUP_FR_Forecasting.ipynb",
   "provenance": []
  },
  "kernelspec": {
   "display_name": "Python 3",
   "language": "python",
   "name": "python3"
  },
  "language_info": {
   "codemirror_mode": {
    "name": "ipython",
    "version": 3
   },
   "file_extension": ".py",
   "mimetype": "text/x-python",
   "name": "python",
   "nbconvert_exporter": "python",
   "pygments_lexer": "ipython3",
   "version": "3.8.8"
  }
 },
 "nbformat": 4,
 "nbformat_minor": 4
}
